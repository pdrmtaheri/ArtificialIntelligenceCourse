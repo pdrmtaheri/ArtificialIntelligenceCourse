{
 "cells": [
  {
   "cell_type": "code",
   "execution_count": 126,
   "metadata": {},
   "outputs": [],
   "source": [
    "import pandas as pd\n",
    "import numpy as np\n",
    "from sklearn.model_selection import train_test_split\n",
    "from sklearn.preprocessing import OrdinalEncoder\n",
    "from sklearn.naive_bayes import GaussianNB"
   ]
  },
  {
   "cell_type": "code",
   "execution_count": 127,
   "metadata": {},
   "outputs": [],
   "source": [
    "def load_and_clean_data():\n",
    "\n",
    "    df = pd.read_csv('Data.csv', header=None)\n",
    "    encoder = OrdinalEncoder(dtype=int)\n",
    "\n",
    "    # Remove education as it is redundant\n",
    "    del df[3]\n",
    "\n",
    "    # Remove capital gain and loss as they contain mostly zeros\n",
    "    del df[10]\n",
    "    del df[11]\n",
    "\n",
    "    df[1] = df[1].astype('category').cat.codes\n",
    "    df[5] = df[5].astype('category').cat.codes\n",
    "    df[6] = df[6].astype('category').cat.codes\n",
    "    df[7] = df[7].astype('category').cat.codes\n",
    "    df[8] = df[8].astype('category').cat.codes\n",
    "    df[9] = df[9].astype('category').cat.codes\n",
    "    df[13] = df[13].astype('category').cat.codes\n",
    "    df[14] = df[14].astype('category').cat.codes\n",
    "\n",
    "    X, y = np.split(df,[-1],axis=1)\n",
    "    X_train, X_test, y_train, y_test = train_test_split(X, y, test_size=0.33)\n",
    "\n",
    "    return X_train, X_test, y_train, y_test"
   ]
  },
  {
   "cell_type": "code",
   "execution_count": 128,
   "metadata": {},
   "outputs": [],
   "source": [
    "def train_and_report(X_train, X_test, y_train, y_test):\n",
    "    gnb = GaussianNB()\n",
    "    gnb.fit(X=X_train, y=y_train)\n",
    "    print(\"Training score:\", gnb.score(X_train, y_train))\n",
    "    print(\"Test score:\", gnb.score(X_test, y_test))"
   ]
  },
  {
   "cell_type": "code",
   "execution_count": 129,
   "metadata": {},
   "outputs": [
    {
     "name": "stdout",
     "output_type": "stream",
     "text": [
      "Training score: 0.7918404767361907\n",
      "Test score: 0.7909919970221477\n"
     ]
    },
    {
     "name": "stderr",
     "output_type": "stream",
     "text": [
      "/Users/pedram/anaconda3/lib/python3.7/site-packages/sklearn/utils/validation.py:761: DataConversionWarning: A column-vector y was passed when a 1d array was expected. Please change the shape of y to (n_samples, ), for example using ravel().\n",
      "  y = column_or_1d(y, warn=True)\n"
     ]
    }
   ],
   "source": [
    "X_train, X_test, y_train, y_test = load_and_clean_data()\n",
    "train_and_report(X_train, X_test, y_train, y_test)"
   ]
  }
 ],
 "metadata": {
  "kernelspec": {
   "display_name": "Python 3",
   "language": "python",
   "name": "python3"
  },
  "language_info": {
   "codemirror_mode": {
    "name": "ipython",
    "version": 3
   },
   "file_extension": ".py",
   "mimetype": "text/x-python",
   "name": "python",
   "nbconvert_exporter": "python",
   "pygments_lexer": "ipython3",
   "version": "3.7.3"
  }
 },
 "nbformat": 4,
 "nbformat_minor": 2
}
