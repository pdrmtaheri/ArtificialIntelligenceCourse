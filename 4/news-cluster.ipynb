{
 "cells": [
  {
   "cell_type": "code",
   "execution_count": 1,
   "metadata": {},
   "outputs": [],
   "source": [
    "import collections\n",
    "import spacy\n",
    "import os\n",
    "\n",
    "from sklearn.feature_extraction.text import TfidfVectorizer\n",
    "from sklearn import metrics\n",
    "from sklearn.cluster import KMeans\n",
    "from sklearn.mixture.gaussian_mixture import GaussianMixture"
   ]
  },
  {
   "cell_type": "code",
   "execution_count": 2,
   "metadata": {},
   "outputs": [],
   "source": [
    "spacy_nlp = spacy.load('en_core_web_sm')\n",
    "def tokenize(article):\n",
    "    try:\n",
    "        article_lines = article.readlines()\n",
    "        new_lines = []\n",
    "        for idx, line in enumerate(article_lines):\n",
    "            tokens = line.split(':')\n",
    "            if ' ' not in tokens[0] and tokens[0] not in ['Subject', 'Highlights']:\n",
    "                continue\n",
    "            elif tokens[0] == 'Subject':\n",
    "                line = line[8:]\n",
    "            if line[0] in ['>', '@']:\n",
    "                continue\n",
    "            new_lines.append(line)\n",
    "        doc = spacy_nlp('\\n'.join(new_lines))\n",
    "        tokens = [token.lemma_.lower().strip() for token in doc if not token.is_stop | token.is_punct | token.is_space | (token.lemma_ == '-PRON-') | token.like_num | token.like_email | (not token.is_alpha)]\n",
    "        return tokens\n",
    "    except:\n",
    "        return []"
   ]
  },
  {
   "cell_type": "code",
   "execution_count": 3,
   "metadata": {},
   "outputs": [],
   "source": [
    "hockey_docs = [' '.join(tokenize(open('News/hockey/{}'.format(f), encoding='utf8'))) for f in os.listdir('News/hockey/')]\n",
    "auto_docs = [' '.join(tokenize(open('News/autos/{}'.format(f), encoding='utf8'))) for f in os.listdir('News/autos/')]\n",
    "space_docs = [' '.join(tokenize(open('News/space/{}'.format(f), encoding='utf8'))) for f in os.listdir('News/space/')]\n",
    "labels = [0] * len(hockey_docs) + [1] * len(auto_docs) + [2] * len(space_docs)"
   ]
  },
  {
   "cell_type": "code",
   "execution_count": 4,
   "metadata": {},
   "outputs": [],
   "source": [
    "corpus = hockey_docs + auto_docs + space_docs\n",
    "vectorizer = TfidfVectorizer()\n",
    "X = vectorizer.fit_transform(hockey_docs + auto_docs + space_docs)"
   ]
  },
  {
   "cell_type": "code",
   "execution_count": 40,
   "metadata": {},
   "outputs": [
    {
     "name": "stdout",
     "output_type": "stream",
     "text": [
      "Micro F-1 Score: 0.334\n",
      "Macro F-1 Score: 0.291\n",
      "Adjusted Rand-Index: 0.699\n"
     ]
    }
   ],
   "source": [
    "km_model = KMeans(n_clusters=3)\n",
    "km_model.fit_transform(X)\n",
    "\n",
    "clustering = collections.defaultdict(list)\n",
    "for idx, label in enumerate(km_model.labels_):\n",
    "    clustering[label].append(idx)\n",
    "\n",
    "print(\"Micro F-1 Score: %0.3f\" % metrics.f1_score(labels, km_model.labels_, average='micro'))\n",
    "print(\"Macro F-1 Score: %0.3f\" % metrics.f1_score(labels, km_model.labels_, average='macro'))\n",
    "print(\"Adjusted Rand-Index: %.3f\" % metrics.adjusted_rand_score(labels, km_model.labels_))"
   ]
  },
  {
   "cell_type": "code",
   "execution_count": 41,
   "metadata": {},
   "outputs": [
    {
     "name": "stdout",
     "output_type": "stream",
     "text": [
      "Micro F-1 Score: 0.330\n",
      "Macro F-1 Score: 0.294\n",
      "Adjusted Rand-Index: 0.733\n"
     ]
    }
   ],
   "source": [
    "gmm_model = GaussianMixture(n_components=3, covariance_type='diag')\n",
    "gmm_model.fit(X.toarray())\n",
    "pred = gmm_model.predict(X.toarray())\n",
    "\n",
    "print(\"Micro F-1 Score: %0.3f\" % metrics.f1_score(labels, pred, average='micro'))\n",
    "print(\"Macro F-1 Score: %0.3f\" % metrics.f1_score(labels, pred, average='macro'))\n",
    "print(\"Adjusted Rand-Index: %.3f\" % metrics.adjusted_rand_score(labels, pred))"
   ]
  },
  {
   "cell_type": "code",
   "execution_count": null,
   "metadata": {},
   "outputs": [],
   "source": []
  }
 ],
 "metadata": {
  "kernelspec": {
   "display_name": "Python 3",
   "language": "python",
   "name": "python3"
  },
  "language_info": {
   "codemirror_mode": {
    "name": "ipython",
    "version": 3
   },
   "file_extension": ".py",
   "mimetype": "text/x-python",
   "name": "python",
   "nbconvert_exporter": "python",
   "pygments_lexer": "ipython3",
   "version": "3.7.3"
  }
 },
 "nbformat": 4,
 "nbformat_minor": 2
}
